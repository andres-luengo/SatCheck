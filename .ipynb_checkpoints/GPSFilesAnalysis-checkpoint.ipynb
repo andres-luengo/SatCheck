{
 "cells": [
  {
   "cell_type": "code",
   "execution_count": 1,
   "metadata": {},
   "outputs": [],
   "source": [
    "import numpy as np\n",
    "\n",
    "from findGPSFiles import findGPSTargs"
   ]
  },
  {
   "cell_type": "code",
   "execution_count": 3,
   "metadata": {},
   "outputs": [
    {
     "name": "stdout",
     "output_type": "stream",
     "text": [
      "With epsilon 10, are all the targets in? True\n"
     ]
    }
   ],
   "source": [
    "delta = 10\n",
    "paths = np.array(findGPSTargs(delta))\n",
    "gps = np.array([f.split('_')[-2] for f in paths])\n",
    "\n",
    "myTargs = np.array(['HIP19734', 'HIP52193', 'HIP89464', 'TIC233087860', 'TIC320525204', 'TIC349827430', 'TIC470315428'])\n",
    "\n",
    "allIn = True\n",
    "\n",
    "preDF = {'filename':paths, 'GPSsignal?':[]}\n",
    "\n",
    "for targ in myTargs:\n",
    "    \n",
    "    where = np.where(targ == gps)[0]\n",
    "    if len(where) == 0:\n",
    "        allIn = False\n",
    "        print(targ)\n",
    "        GPSsignal.append(False)\n",
    "    else:\n",
    "        GPSsignal.append(True)\n",
    "        \n",
    "print(f'With epsilon {delta}, are all the targets in?', allIn)"
   ]
  },
  {
   "cell_type": "code",
   "execution_count": null,
   "metadata": {},
   "outputs": [],
   "source": []
  },
  {
   "cell_type": "code",
   "execution_count": null,
   "metadata": {},
   "outputs": [],
   "source": []
  }
 ],
 "metadata": {
  "kernelspec": {
   "display_name": "Python 3",
   "language": "python",
   "name": "python3"
  },
  "language_info": {
   "codemirror_mode": {
    "name": "ipython",
    "version": 3
   },
   "file_extension": ".py",
   "mimetype": "text/x-python",
   "name": "python",
   "nbconvert_exporter": "python",
   "pygments_lexer": "ipython3",
   "version": "3.8.5"
  }
 },
 "nbformat": 4,
 "nbformat_minor": 4
}
