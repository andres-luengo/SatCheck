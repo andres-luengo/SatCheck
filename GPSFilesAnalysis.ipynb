{
 "cells": [
  {
   "cell_type": "code",
   "execution_count": 1,
   "metadata": {},
   "outputs": [],
   "source": [
    "import numpy as np\n",
    "\n",
    "from findGPSFiles import findGPSTargs"
   ]
  },
  {
   "cell_type": "code",
   "execution_count": 20,
   "metadata": {},
   "outputs": [
    {
     "name": "stdout",
     "output_type": "stream",
     "text": [
      "With epsilon 20, are all the targets in? True\n"
     ]
    }
   ],
   "source": [
    "delta = 20\n",
    "paths = np.array(findGPSTargs(delta))\n",
    "gps = np.array([f.split('_')[-2] for f in paths])\n",
    "\n",
    "myTargs = np.array(['HIP19734', 'HIP52193', 'HIP89464', 'TIC233087860', 'TIC320525204', 'TIC349827430', 'TIC470315428'])\n",
    "\n",
    "allIn = True\n",
    "\n",
    "for targ in myTargs:\n",
    "    \n",
    "    where = np.where(targ == gps)[0]\n",
    "    if len(where) == 0:\n",
    "        allIn = False\n",
    "        \n",
    "print(f'With epsilon {delta}, are all the targets in?', allIn)"
   ]
  },
  {
   "cell_type": "code",
   "execution_count": 21,
   "metadata": {},
   "outputs": [
    {
     "data": {
      "text/html": [
       "<div>\n",
       "<style scoped>\n",
       "    .dataframe tbody tr th:only-of-type {\n",
       "        vertical-align: middle;\n",
       "    }\n",
       "\n",
       "    .dataframe tbody tr th {\n",
       "        vertical-align: top;\n",
       "    }\n",
       "\n",
       "    .dataframe thead th {\n",
       "        text-align: right;\n",
       "    }\n",
       "</style>\n",
       "<table border=\"1\" class=\"dataframe\">\n",
       "  <thead>\n",
       "    <tr style=\"text-align: right;\">\n",
       "      <th></th>\n",
       "      <th>filename</th>\n",
       "      <th>GPSsignal?</th>\n",
       "    </tr>\n",
       "  </thead>\n",
       "  <tbody>\n",
       "    <tr>\n",
       "      <th>0</th>\n",
       "      <td>spliced_blc4041424344454647_guppi_58844_33730_...</td>\n",
       "      <td>False</td>\n",
       "    </tr>\n",
       "    <tr>\n",
       "      <th>1</th>\n",
       "      <td>spliced_blc4041424344454647_guppi_58844_32460_...</td>\n",
       "      <td>False</td>\n",
       "    </tr>\n",
       "    <tr>\n",
       "      <th>2</th>\n",
       "      <td>spliced_blc4041424344454647_guppi_58885_58845_...</td>\n",
       "      <td>True</td>\n",
       "    </tr>\n",
       "    <tr>\n",
       "      <th>3</th>\n",
       "      <td>spliced_blc0001020304050607_guppi_58873_23895_...</td>\n",
       "      <td>True</td>\n",
       "    </tr>\n",
       "    <tr>\n",
       "      <th>4</th>\n",
       "      <td>spliced_blc4041424344454647_guppi_58844_27888_...</td>\n",
       "      <td>False</td>\n",
       "    </tr>\n",
       "    <tr>\n",
       "      <th>...</th>\n",
       "      <td>...</td>\n",
       "      <td>...</td>\n",
       "    </tr>\n",
       "    <tr>\n",
       "      <th>65</th>\n",
       "      <td>spliced_blc40414243444547_guppi_58844_31808_HI...</td>\n",
       "      <td>False</td>\n",
       "    </tr>\n",
       "    <tr>\n",
       "      <th>66</th>\n",
       "      <td>spliced_blc0001020304050607_guppi_58965_57482_...</td>\n",
       "      <td>False</td>\n",
       "    </tr>\n",
       "    <tr>\n",
       "      <th>67</th>\n",
       "      <td>spliced_blc5051525354555657_guppi_58892_34148_...</td>\n",
       "      <td>False</td>\n",
       "    </tr>\n",
       "    <tr>\n",
       "      <th>68</th>\n",
       "      <td>spliced_blc4041424344454647_guppi_58844_24040_...</td>\n",
       "      <td>False</td>\n",
       "    </tr>\n",
       "    <tr>\n",
       "      <th>69</th>\n",
       "      <td>spliced_blc4041424344454647_guppi_58885_69756_...</td>\n",
       "      <td>False</td>\n",
       "    </tr>\n",
       "  </tbody>\n",
       "</table>\n",
       "<p>70 rows × 2 columns</p>\n",
       "</div>"
      ],
      "text/plain": [
       "                                             filename  GPSsignal?\n",
       "0   spliced_blc4041424344454647_guppi_58844_33730_...       False\n",
       "1   spliced_blc4041424344454647_guppi_58844_32460_...       False\n",
       "2   spliced_blc4041424344454647_guppi_58885_58845_...        True\n",
       "3   spliced_blc0001020304050607_guppi_58873_23895_...        True\n",
       "4   spliced_blc4041424344454647_guppi_58844_27888_...       False\n",
       "..                                                ...         ...\n",
       "65  spliced_blc40414243444547_guppi_58844_31808_HI...       False\n",
       "66  spliced_blc0001020304050607_guppi_58965_57482_...       False\n",
       "67  spliced_blc5051525354555657_guppi_58892_34148_...       False\n",
       "68  spliced_blc4041424344454647_guppi_58844_24040_...       False\n",
       "69  spliced_blc4041424344454647_guppi_58885_69756_...       False\n",
       "\n",
       "[70 rows x 2 columns]"
      ]
     },
     "execution_count": 21,
     "metadata": {},
     "output_type": "execute_result"
    }
   ],
   "source": [
    "import pandas as pd\n",
    "\n",
    "preDF = {'filename':paths, 'GPSsignal?':[]}\n",
    "badPaths = []\n",
    "\n",
    "for i, path in enumerate(paths):\n",
    "    \n",
    "    where = np.where(gps[i] == myTargs)[0]\n",
    "    \n",
    "    if len(where) > 0:\n",
    "        preDF['GPSsignal?'].append(True)\n",
    "        badPaths.append(path)\n",
    "    else:\n",
    "        preDF['GPSsignal?'].append(False)\n",
    "\n",
    "df = pd.DataFrame(preDF)\n",
    "df"
   ]
  },
  {
   "cell_type": "code",
   "execution_count": 22,
   "metadata": {},
   "outputs": [
    {
     "data": {
      "text/plain": [
       "['spliced_blc4041424344454647_guppi_58885_58845_TIC233087860_0041',\n",
       " 'spliced_blc0001020304050607_guppi_58873_23895_HIP52193_0089',\n",
       " 'spliced_blc0001020304050607_guppi_58965_59729_HIP19734_0023',\n",
       " 'spliced_blc4041424344454647_guppi_58885_60794_TIC320525204_0047',\n",
       " 'spliced_blc4041424344454647_guppi_58885_59801_HIP89464_0044',\n",
       " 'spliced_blc0001020304050607_guppi_58965_58130_TIC470315428_0018',\n",
       " 'spliced_blc0001020304050607_guppi_58965_59412_TIC470315428_0022',\n",
       " 'spliced_blc4041424344454647_guppi_58885_62080_TIC320525204_0051',\n",
       " 'spliced_blc4041424344454647_guppi_58885_60119_TIC233087860_0045',\n",
       " 'spliced_blc0001020304050607_guppi_58873_24216_TIC349827430_0090',\n",
       " 'spliced_blc0001020304050607_guppi_58873_23574_TIC349827430_0088',\n",
       " 'spliced_blc0001020304050607_guppi_58873_24850_TIC349827430_0092']"
      ]
     },
     "execution_count": 22,
     "metadata": {},
     "output_type": "execute_result"
    }
   ],
   "source": [
    "badPaths"
   ]
  },
  {
   "cell_type": "code",
   "execution_count": null,
   "metadata": {},
   "outputs": [],
   "source": []
  }
 ],
 "metadata": {
  "kernelspec": {
   "display_name": "Python 3",
   "language": "python",
   "name": "python3"
  },
  "language_info": {
   "codemirror_mode": {
    "name": "ipython",
    "version": 3
   },
   "file_extension": ".py",
   "mimetype": "text/x-python",
   "name": "python",
   "nbconvert_exporter": "python",
   "pygments_lexer": "ipython3",
   "version": "3.8.5"
  }
 },
 "nbformat": 4,
 "nbformat_minor": 4
}
